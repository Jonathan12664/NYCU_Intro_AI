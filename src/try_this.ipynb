{
  "cells": [
    {
      "cell_type": "markdown",
      "metadata": {
        "id": "JLyyXSC_Deld"
      },
      "source": [
        "# Load library"
      ]
    },
    {
      "cell_type": "code",
      "execution_count": 1,
      "metadata": {
        "id": "yQcakHI9Delj"
      },
      "outputs": [],
      "source": [
        "import torch\n",
        "import csv\n",
        "import math\n",
        "import torch\n",
        "from torch import nn, Tensor\n",
        "import torch.nn.functional as F\n",
        "from torch.nn import TransformerEncoder, TransformerEncoderLayer\n",
        "import warnings\n",
        "from torchtext.data.utils import get_tokenizer\n",
        "from torchtext.vocab import GloVe,vocab\n",
        "from torch.utils.data import DataLoader\n",
        "import tqdm\n",
        "from nltk.tokenize.treebank import TreebankWordDetokenizer\n",
        "import nltk\n",
        "from nltk.corpus import stopwords\n",
        "from torch.nn.utils.rnn import pad_sequence\n",
        "import numpy as np\n",
        "\n",
        "warnings.filterwarnings(\"ignore\")"
      ]
    },
    {
      "cell_type": "markdown",
      "metadata": {
        "id": "V3nxdCTLDell"
      },
      "source": [
        "# Data Preprocessing\n",
        "\n",
        "1. How do you choose the tokenizer for this task? Could we use the white space to tokenize the text? What about using the complicated tokenizer instead? Make some discussion.\n",
        "\n",
        "I think the answer about the first question is yes, but the result may not be good. Since that the white space tokenizer will split the word by the white space, but the word may not be split by the white space.\n",
        "\n",
        "But the task in this task is enough to use the white space tokenizer.\n",
        "\n",
        "I choose `torchtext` with `basic_english` for the tokenizer. "
      ]
    },
    {
      "cell_type": "markdown",
      "metadata": {
        "id": "MGisdzhxDelm"
      },
      "source": [
        "2. Why we need the special tokens like ⟨pad⟩, ⟨unk⟩?\n",
        "\n",
        "Special tokens like ⟨pad⟩ and ⟨unk⟩ are used in natural language processing tasks to represent special cases that might occur in the data.\n",
        "- ⟨pad⟩: it is used to pad the sequence to the same length.\n",
        "- ⟨unk⟩: it is used to represent the word that is not in the vocabulary."
      ]
    },
    {
      "cell_type": "markdown",
      "metadata": {
        "id": "ThNoBXcwDeln"
      },
      "source": [
        "3. Briefly explain how your procedure is run to handle the text data.\n",
        "\n",
        "- First, using `pandas` to read the data.\n",
        "- Second, combine the `headline` and `short_description` to `text`, and filter the stop words with `nltk`.\n",
        "- Thrid, using `torchtext` to build the vocabulary and tokenize the text.\n",
        "- Fourth, with `GloVe` to build the embedding matrix.\n",
        "- Fifth, build dataset and dataloader. And using `torch.nn.utils.rnn.pad_sequence` make sure the length of each batch is the same."
      ]
    },
    {
      "cell_type": "code",
      "execution_count": 2,
      "metadata": {
        "colab": {
          "base_uri": "https://localhost:8080/"
        },
        "id": "8-_Yao_PDelo",
        "outputId": "f75ad610-7189-4b76-90f1-018c940d54bf"
      },
      "outputs": [
        {
          "output_type": "stream",
          "name": "stderr",
          "text": [
            "[nltk_data] Downloading package stopwords to /root/nltk_data...\n",
            "[nltk_data]   Package stopwords is already up-to-date!\n"
          ]
        }
      ],
      "source": [
        "# download nltk stopwords\n",
        "nltk.download('stopwords')\n",
        "stop_words = set(stopwords.words('english'))\n",
        "\n",
        "class MyDataset(torch.utils.data.Dataset):\n",
        "    def __init__(self, text, category):\n",
        "        self.text = text\n",
        "        self.category = category\n",
        "\n",
        "    def __getitem__(self, idx):\n",
        "        return self.category[idx], self.text[idx]\n",
        "\n",
        "    def __len__(self):\n",
        "        return len(self.text)\n",
        "    \n",
        "class TestDataset(torch.utils.data.Dataset):\n",
        "    def __init__(self, text):\n",
        "        self.text = text\n",
        "\n",
        "    def __getitem__(self, idx):\n",
        "        return self.text[idx]\n",
        "\n",
        "    def __len__(self):\n",
        "        return len(self.text)"
      ]
    },
    {
      "cell_type": "code",
      "source": [
        "# read train.csv with pandas\n",
        "import pandas as pd\n",
        "df = pd.read_csv('train_c.csv')\n",
        "print(df.head())"
      ],
      "metadata": {
        "colab": {
          "base_uri": "https://localhost:8080/"
        },
        "id": "l1BAWrb3FOBC",
        "outputId": "25fb6c42-fbc9-4a2a-c8ca-6e0b486191bf"
      },
      "execution_count": 3,
      "outputs": [
        {
          "output_type": "stream",
          "name": "stdout",
          "text": [
            "   id                                              title              author  \\\n",
            "0   0  House Dem Aide: We Didn’t Even See Comey’s Let...       Darrell Lucus   \n",
            "1   1  FLYNN: Hillary Clinton, Big Woman on Campus - ...     Daniel J. Flynn   \n",
            "2   2                  Why the Truth Might Get You Fired  Consortiumnews.com   \n",
            "3   3  15 Civilians Killed In Single US Airstrike Hav...     Jessica Purkiss   \n",
            "4   4  Iranian woman jailed for fictional unpublished...      Howard Portnoy   \n",
            "\n",
            "                                                text  label  \n",
            "0  House Dem Aide: We Didn’t Even See Comey’s Let...      1  \n",
            "1  Ever get the feeling your life circles the rou...      0  \n",
            "2  Why the Truth Might Get You Fired October 29, ...      1  \n",
            "3  Videos 15 Civilians Killed In Single US Airstr...      1  \n",
            "4  Print \\nAn Iranian woman has been sentenced to...      1  \n"
          ]
        }
      ]
    },
    {
      "cell_type": "code",
      "execution_count": 4,
      "metadata": {
        "id": "2q1SEzQdDelp"
      },
      "outputs": [],
      "source": [
        "# combine headline and short_description into text, and remove idx\n",
        "df['text_full'] = df['title'] + ' ' + df['text']\n",
        "# remove headline and short_description stopwords\n",
        "df[\"text_w\"] = df[\"text_full\"].apply(lambda x: ' '.join([word for word in str(x).split() if word not in (stop_words)]))\n",
        "dataset = MyDataset(df['text_w'], df['label'])\n",
        "# split dataset into train and valid with random_split\n",
        "train_dataset, valid_dataset = torch.utils.data.random_split(dataset, [int(len(dataset)*0.8), len(dataset)-int(len(dataset)*0.8)])"
      ]
    },
    {
      "cell_type": "code",
      "execution_count": 5,
      "metadata": {
        "id": "YU7wQot6Delq"
      },
      "outputs": [],
      "source": [
        "test_df = pd.read_csv('test_c.csv')\n",
        "test_df['text_full'] = test_df['title'] + ' ' + test_df['text']\n",
        "test_df[\"text_w\"] = test_df[\"text_full\"].apply(lambda x: ' '.join([word for word in str(x).split() if word not in (stop_words)]))\n",
        "test_dataset = TestDataset(test_df['text_w'])"
      ]
    },
    {
      "cell_type": "code",
      "execution_count": 6,
      "metadata": {
        "id": "fqj-6BkIDelq"
      },
      "outputs": [],
      "source": [
        "text_vec = GloVe(name='6B', dim=100)\n",
        "\n",
        "tokenizer = get_tokenizer('basic_english')"
      ]
    },
    {
      "cell_type": "code",
      "execution_count": 7,
      "metadata": {
        "id": "AVXR8rRlDelr"
      },
      "outputs": [],
      "source": [
        "# text_pipeline = lambda x: text_vec.get_vecs_by_tokens(tokenizer(x), lower_case_backup=False)\n",
        "myvocab=vocab(text_vec.stoi, min_freq=0, specials=['<pad>','<unk>'], special_first = True) \n",
        "\n",
        "myvocab.set_default_index(myvocab['<unk>'])\n",
        "\n",
        "label_pipeline = lambda x: int(x) - 1\n",
        "\n",
        "device = torch.device(\"cuda\" if torch.cuda.is_available() else \"cpu\")\n",
        "\n",
        "def collate_batch(batch):\n",
        "    label_list, text_list = [], []\n",
        "    for (_label, _text) in batch:\n",
        "         label_list.append(label_pipeline(_label))\n",
        "         processed_text = torch.tensor(myvocab(tokenizer(_text)), dtype=torch.int64)\n",
        "         text_list.append(processed_text)\n",
        "    text_list = torch.nn.utils.rnn.pad_sequence(text_list, padding_value=0)\n",
        "    label_list = torch.tensor(label_list, dtype=torch.int64)\n",
        "    return label_list.to(device), text_list.to(device)\n",
        "\n",
        "def test_collate_batch(batch):\n",
        "    text_list = []\n",
        "    for (_text) in batch:\n",
        "         processed_text = torch.tensor(myvocab(tokenizer(_text)), dtype=torch.int64)\n",
        "         text_list.append(processed_text)\n",
        "    text_list = torch.nn.utils.rnn.pad_sequence(text_list, padding_value=0)\n",
        "    return text_list.to(device)"
      ]
    },
    {
      "cell_type": "markdown",
      "metadata": {
        "id": "IsVoqNzvDelr"
      },
      "source": [
        "# Transformer\n",
        "\n",
        "2. Discuss the model structure or hyperparameter setting in your design.\n",
        "\n",
        "Model structure:\n",
        "- Embedding layer: using the embedding matrix to get the embedding of each word. We called `encoder` and load the pretrained embedding matrix.\n",
        "- Positional encoding: using the positional encoding to add the position information to the embedding. We called `pos_encoder`.\n",
        "- Encoder: using encoder to encode the input sequence. We called `transformer_encoder`.\n",
        "- Using `torch.mean` to get the mean of the output of encoder.\n",
        "- Decoder: using decoder to decode the encoded sequence. After that we can get the `num_class` output. We called `decoder`.\n",
        "\n",
        "Hyperparameter setting:\n",
        "- `d_model` = 100\n",
        "- `d_hid` = 400\n",
        "- `nlayers` = 4\n",
        "- `nhead` = 10\n",
        "- `dropout` = 0.5\n",
        "\n",
        "The hyperparameter setting is the default setting in the `torch.nn.Transformer`.\n",
        "\n",
        "But `d_model` is 100. Since the embedding matrix is 100 dimension.\n",
        "\n",
        "And the `n_head` needs to be a factor of `d_model`, so I set it to 10."
      ]
    },
    {
      "cell_type": "code",
      "execution_count": 8,
      "metadata": {
        "id": "FHoP2Un6Dels"
      },
      "outputs": [],
      "source": [
        "class TransformerModel(nn.Module):\n",
        "\n",
        "    def __init__(self, num_class: int, d_model: int, nhead: int, d_hid: int,\n",
        "                 nlayers: int, dropout: float = 0.5, activatioln: str = 'relu') -> None:\n",
        "        super().__init__()\n",
        "        pretrain_emb=torch.cat([torch.zeros((2,100)),text_vec.vectors]) # add <pad> and <unk> to the pretrained embedding\n",
        "        self.model_type = 'Transformer'\n",
        "        self.pos_encoder = PositionalEncoding(d_model, dropout)\n",
        "        encoder_layers = TransformerEncoderLayer(d_model, nhead, d_hid, dropout,)\n",
        "        self.transformer_encoder = TransformerEncoder(encoder_layers, nlayers)\n",
        "        self.encoder = nn.Embedding.from_pretrained(pretrain_emb, freeze=False)\n",
        "        self.decoder = nn.Linear(d_model, num_class)\n",
        "\n",
        "    def forward(self, src: Tensor) -> Tensor:\n",
        "        \"\"\"\n",
        "        Arguments:\n",
        "            src: Tensor, shape ``[seq_len, batch_size]``\n",
        "            src_mask: Tensor, shape ``[seq_len, seq_len]``\n",
        "\n",
        "        Returns:\n",
        "            output Tensor of shape ``[seq_len, batch_size, ntoken]``\n",
        "        \"\"\"\n",
        "        src = self.encoder(src)\n",
        "        src = self.pos_encoder(src)\n",
        "        output = self.transformer_encoder(src)\n",
        "        output = torch.mean(output, dim=0)\n",
        "        output = self.decoder(output)\n",
        "        # output = torch.argmax(output, dim=1)\n",
        "        # output = output * -1\n",
        "        return output\n",
        "    \n",
        "class PositionalEncoding(nn.Module):\n",
        "\n",
        "    def __init__(self, d_model: int, dropout: float = 0.1, max_len: int = 5000):\n",
        "        super().__init__()\n",
        "        self.dropout = nn.Dropout(p=dropout)\n",
        "\n",
        "        position = torch.arange(max_len).unsqueeze(1)\n",
        "        div_term = torch.exp(torch.arange(0, d_model, 2) * (-math.log(10000.0) / d_model))\n",
        "        pe = torch.zeros(max_len, 1, d_model)\n",
        "        pe[:, 0, 0::2] = torch.sin(position * div_term)\n",
        "        pe[:, 0, 1::2] = torch.cos(position * div_term)\n",
        "        self.register_buffer('pe', pe)\n",
        "\n",
        "    def forward(self, x: Tensor) -> Tensor:\n",
        "        \"\"\"\n",
        "        Arguments:\n",
        "            x: Tensor, shape ``[seq_len, batch_size, embedding_dim]``\n",
        "        \"\"\"\n",
        "        x = x + self.pe[:x.size(0)]\n",
        "        return self.dropout(x)"
      ]
    },
    {
      "cell_type": "code",
      "execution_count": 9,
      "metadata": {
        "id": "9omSPHObDels"
      },
      "outputs": [],
      "source": [
        "batch = 4\n",
        "\n",
        "train_dataloader = DataLoader(train_dataset, batch_size=batch, shuffle=True, collate_fn=collate_batch)\n",
        "valid_dataloader = DataLoader(valid_dataset, batch_size=batch, shuffle=True, collate_fn=collate_batch)\n",
        "test_dataloader = DataLoader(test_dataset, batch_size=1, shuffle=False, collate_fn=test_collate_batch)"
      ]
    },
    {
      "cell_type": "code",
      "execution_count": 10,
      "metadata": {
        "id": "swa4X6uKDelt"
      },
      "outputs": [],
      "source": [
        "num_class = 2\n",
        "d_model = 100  # embedding dimension\n",
        "d_hid = 400  # dimension of the feedforward network model in ``nn.TransformerEncoder``\n",
        "nlayers = 2  # number of ``nn.TransformerEncoderLayer`` in ``nn.TransformerEncoder``\n",
        "nhead = 10  # number of heads in ``nn.MultiheadAttention``\n",
        "dropout = 0.5  # dropout probability\n",
        "total_epoch = 50\n",
        "act_funct = 'silu'\n",
        "\n",
        "model = TransformerModel(num_class, d_model, nhead, d_hid, nlayers, dropout, activatioln=act_funct).to(device)\n",
        "\n",
        "optimizer = torch.optim.AdamW(model.parameters(), lr=5e-4, weight_decay=1e-4)\n",
        "criterion = torch.nn.CrossEntropyLoss().to(device)\n",
        "scheduler = torch.optim.lr_scheduler.CosineAnnealingLR(optimizer, T_max=total_epoch, eta_min=1e-5)"
      ]
    },
    {
      "cell_type": "code",
      "source": [
        "total_params = sum(p.numel() for p in model.parameters())\n",
        "print(\"Total number of parameters: \", total_params)"
      ],
      "metadata": {
        "colab": {
          "base_uri": "https://localhost:8080/"
        },
        "id": "Io3678FrPEqM",
        "outputId": "c1c1c74f-7bca-49a5-efc6-c862fb992d89"
      },
      "execution_count": 11,
      "outputs": [
        {
          "output_type": "stream",
          "name": "stdout",
          "text": [
            "Total number of parameters:  40243002\n"
          ]
        }
      ]
    },
    {
      "cell_type": "code",
      "source": [
        "next(iter(train_dataloader))"
      ],
      "metadata": {
        "colab": {
          "base_uri": "https://localhost:8080/"
        },
        "id": "DLgo7rlMRA8u",
        "outputId": "140b7029-f8ce-466b-905d-292562dc76cd"
      },
      "execution_count": 12,
      "outputs": [
        {
          "output_type": "execute_result",
          "data": {
            "text/plain": [
              "(tensor([-1,  0,  0,  0]),\n",
              " tensor([[   27,   300,   712,   222],\n",
              "         [    1,  1345,  2026,   424],\n",
              "         [50352,  2814,   141,  1678],\n",
              "         ...,\n",
              "         [  172,     0,     0,     0],\n",
              "         [ 2133,     0,     0,     0],\n",
              "         [    4,     0,     0,     0]]))"
            ]
          },
          "metadata": {},
          "execution_count": 12
        }
      ]
    },
    {
      "cell_type": "code",
      "source": [
        "# train_loop = tqdm.tqdm((train_dataloader), total=len(train_dataloader))\n",
        "# for idx, (label, text) in enumerate(train_loop):\n",
        "#   print(label)\n",
        "#   o = model(text[:5])\n",
        "#   print('model out:', o)\n",
        "#   # pred = torch.argmax(o, dim=1)\n",
        "#   # print('pred', pred)\n",
        "#   print(criterion(o, label*-1))\n",
        "#   break"
      ],
      "metadata": {
        "colab": {
          "base_uri": "https://localhost:8080/"
        },
        "id": "yqRdi8hVR_LT",
        "outputId": "70b4fa5b-f690-42b7-d7c3-064b9a00a019"
      },
      "execution_count": 13,
      "outputs": [
        {
          "output_type": "stream",
          "name": "stderr",
          "text": [
            "  0%|          | 0/4160 [00:00<?, ?it/s]"
          ]
        },
        {
          "output_type": "stream",
          "name": "stdout",
          "text": [
            "tensor([-1, -1, -1, -1])\n",
            "model out: tensor([[-0.1852, -0.3484],\n",
            "        [-0.5409, -0.1949],\n",
            "        [ 0.0767, -0.6480],\n",
            "        [ 0.3924, -0.6769]], grad_fn=<AddmmBackward0>)\n",
            "tensor(0.9493, grad_fn=<NllLossBackward0>)\n"
          ]
        },
        {
          "output_type": "stream",
          "name": "stderr",
          "text": [
            "\n"
          ]
        }
      ]
    },
    {
      "cell_type": "markdown",
      "source": [
        "### Lol"
      ],
      "metadata": {
        "id": "bgxjY3I_XSGB"
      }
    },
    {
      "cell_type": "code",
      "execution_count": null,
      "metadata": {
        "colab": {
          "base_uri": "https://localhost:8080/"
        },
        "id": "wfibvP2pDelt",
        "outputId": "69cf6be3-7b37-4e25-d0c2-4fe76c131440"
      },
      "outputs": [
        {
          "output_type": "stream",
          "name": "stderr",
          "text": [
            "Epoch [1/50]:  13%|█▎        | 534/4160 [03:55<29:46,  2.03it/s, train_acc=0.0445, train_loss=0.0172]"
          ]
        }
      ],
      "source": [
        "best_acc, best_loss = 0, 1e9\n",
        "\n",
        "for i in range(total_epoch):\n",
        "    train_acc, train_loss = 0, 0\n",
        "    valid_acc, valid_loss = 0, 0\n",
        "\n",
        "    model.train()\n",
        "    train_loop = tqdm.tqdm((train_dataloader), total=len(train_dataloader))\n",
        "    for idx, (label, text) in enumerate(train_loop):\n",
        "        optimizer.zero_grad()\n",
        "        output = model(text[:300])\n",
        "        # print('Output', output)\n",
        "        loss = criterion(output, label*(-1))\n",
        "        loss.backward()\n",
        "        optimizer.step()\n",
        "        train_loss += loss.item()\n",
        "        pred = torch.argmax(F.softmax(output, dim=1) ,dim=1)\n",
        "        train_acc += (pred == label).sum().item()\n",
        "        train_loop.set_description(f\"Epoch [{i+1}/{total_epoch}]\")\n",
        "        train_loop.set_postfix(train_loss=train_loss/(len(train_dataloader) * batch), train_acc=train_acc/(len(train_dataloader) * batch))\n",
        "\n",
        "    model.eval()\n",
        "    total_loss = 0.\n",
        "    valid_loop = tqdm.tqdm((valid_dataloader), total=len(valid_dataloader))\n",
        "    with torch.no_grad():\n",
        "        for idx, (label, text) in enumerate(valid_loop):\n",
        "            output = model(text[:300])\n",
        "            loss = criterion(output, label)\n",
        "            valid_loss += loss.item()\n",
        "            pred = torch.argmax(F.softmax(output, dim=1), dim=1)\n",
        "            valid_acc += (pred == label).sum().item()\n",
        "            valid_loop.set_description(f\"Epoch [{i+1}/{total_epoch}]\")\n",
        "            valid_loop.set_postfix(valid_loss=valid_loss/(len(valid_dataloader) * batch), valid_acc=valid_acc/(len(valid_dataloader) * batch))\n",
        "\n",
        "    if valid_loss < best_loss:\n",
        "        best_loss = valid_loss\n",
        "        torch.save(model.state_dict(), 'best_loss_model.pth')\n",
        "    scheduler.step()"
      ]
    },
    {
      "cell_type": "code",
      "source": [],
      "metadata": {
        "id": "6bJGVx3JPCXF"
      },
      "execution_count": null,
      "outputs": []
    },
    {
      "cell_type": "code",
      "execution_count": null,
      "metadata": {
        "id": "pYSD6tKwDelt"
      },
      "outputs": [],
      "source": [
        "# load best model\n",
        "model.load_state_dict(torch.load('best_loss_model.pth'))\n",
        "\n",
        "pred = np.zeros(len(test_dataloader))\n",
        "index = 0\n",
        "\n",
        "test_loop = tqdm.tqdm((test_dataloader), total=len(test_dataloader))\n",
        "for idx, (text) in enumerate(test_loop):\n",
        "    with torch.no_grad():\n",
        "        output = model(text)\n",
        "        pred[idx] = torch.argmax(F.softmax(output, dim=1), dim=1)\n",
        "    index += 1\n",
        "\n",
        "with open('result.csv', 'w', newline='') as f:\n",
        "    writer = csv.writer(f)\n",
        "    writer.writerow(['id', 'category'])\n",
        "    for i in range(len(pred)):\n",
        "        writer.writerow([i+1, int(pred[i]) + 1])"
      ]
    }
  ],
  "metadata": {
    "kernelspec": {
      "display_name": "base",
      "language": "python",
      "name": "python3"
    },
    "language_info": {
      "codemirror_mode": {
        "name": "ipython",
        "version": 3
      },
      "file_extension": ".py",
      "mimetype": "text/x-python",
      "name": "python",
      "nbconvert_exporter": "python",
      "pygments_lexer": "ipython3",
      "version": "3.8.16"
    },
    "orig_nbformat": 4,
    "colab": {
      "provenance": [],
      "machine_shape": "hm"
    }
  },
  "nbformat": 4,
  "nbformat_minor": 0
}